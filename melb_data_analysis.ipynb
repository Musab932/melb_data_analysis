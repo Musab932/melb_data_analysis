{
  "cells": [
    {
      "cell_type": "code",
      "execution_count": 14,
      "metadata": {
        "id": "z9BKsHD9zwzl"
      },
      "outputs": [],
      "source": [
        "import pandas as pd\n",
        "import numpy as np"
      ]
    },
    {
      "cell_type": "markdown",
      "metadata": {
        "cellView": "form",
        "id": "8H7AQSyUYCn_"
      },
      "source": [
        "## Task 1: Handling Missing Values"
      ]
    },
    {
      "cell_type": "code",
      "execution_count": 35,
      "metadata": {
        "colab": {
          "base_uri": "https://localhost:8080/"
        },
        "id": "eukLpI3p0Njc",
        "outputId": "61cecfa5-36c4-496f-d301-e9c0957ea6f4"
      },
      "outputs": [
        {
          "name": "stdout",
          "output_type": "stream",
          "text": [
            "Index(['BuildingArea', 'YearBuilt'], dtype='object')\n"
          ]
        }
      ],
      "source": [
        "# Step 1\n",
        "\n",
        "df = pd.read_csv(\"melb_data.csv\")\n",
        "missing_person = df.isna().sum()\n",
        "\n",
        "# Step 2\n",
        "\n",
        "missing_percentage = (missing_person / len(df)) * 100\n",
        "\n",
        "# Step 3\n",
        "\n",
        "columns_to_drop = missing_percentage[missing_percentage > 20].index\n",
        "print(columns_to_drop)"
      ]
    },
    {
      "cell_type": "markdown",
      "metadata": {
        "cellView": "form",
        "id": "e_92q1dYYUyt"
      },
      "source": [
        "\n",
        "\n",
        "##  Task 2 :Advanced Filtering and Indexing"
      ]
    },
    {
      "cell_type": "code",
      "execution_count": 34,
      "metadata": {
        "colab": {
          "base_uri": "https://localhost:8080/"
        },
        "id": "igYcMjk00qSU",
        "outputId": "713727f7-224c-44db-a633-0e8b758b77e6"
      },
      "outputs": [
        {
          "name": "stdout",
          "output_type": "stream",
          "text": [
            "        Suburb          Address  Rooms Type      Price Method        SellerG  \\\n",
            "5257  Richmond       81 Erin St      3    h  1260000.0      S         Biggin   \n",
            "5258  Richmond  52 Lyndhurst St      3    t  1236000.0      S         Jellis   \n",
            "5263  Richmond        7 Bank St      3    h  1600000.0      S  hockingstuart   \n",
            "5264  Richmond      29 Bowen St      3    h  2180000.0     PI           Blue   \n",
            "5266  Richmond      131 Lord St      4    h  3335000.0      S         Jellis   \n",
            "\n",
            "           Date  Distance  Postcode  ...  Car  Landsize  BuildingArea  \\\n",
            "5257  3/09/2016       2.6    3121.0  ...  0.0     203.0          81.0   \n",
            "5258  3/09/2016       2.6    3121.0  ...  1.0     675.0           NaN   \n",
            "5263  3/12/2016       2.6    3121.0  ...  1.0     115.0           NaN   \n",
            "5264  3/12/2016       2.6    3121.0  ...  2.0     345.0           NaN   \n",
            "5266  3/12/2016       2.6    3121.0  ...  2.0     319.0           NaN   \n",
            "\n",
            "      YearBuilt  CouncilArea  Lattitude Longtitude             Regionname  \\\n",
            "5257     1900.0        Yarra   -37.8166   144.9945  Northern Metropolitan   \n",
            "5258        NaN        Yarra   -37.8206   145.0003  Northern Metropolitan   \n",
            "5263        NaN        Yarra   -37.8163   144.9984  Northern Metropolitan   \n",
            "5264        NaN        Yarra   -37.8159   144.9940  Northern Metropolitan   \n",
            "5266     1893.0        Yarra   -37.8244   145.0044  Northern Metropolitan   \n",
            "\n",
            "      Propertycount Price_per_Room  \n",
            "5257        14949.0  420000.000000  \n",
            "5258        14949.0  412000.000000  \n",
            "5263        14949.0  533333.333333  \n",
            "5264        14949.0  726666.666667  \n",
            "5266        14949.0  833750.000000  \n",
            "\n",
            "[5 rows x 22 columns]\n"
          ]
        }
      ],
      "source": [
        "\n",
        "# Step 1\n",
        "\n",
        "richmond_houses = df[(df[\"Suburb\"] == \"Richmond\") & (df[\"Price\"] > 1000000)]\n",
        "print(richmond_houses.head())"
      ]
    },
    {
      "cell_type": "code",
      "execution_count": 33,
      "metadata": {
        "colab": {
          "base_uri": "https://localhost:8080/"
        },
        "id": "BlcylubZXsBh",
        "outputId": "5d560d85-8032-4a9f-8403-5a98ef1ac1c9"
      },
      "outputs": [
        {
          "name": "stdout",
          "output_type": "stream",
          "text": [
            "        Price        Suburb  BuildingArea\n",
            "20  1330000.0    Abbotsford         135.0\n",
            "22  1090000.0    Abbotsford          27.0\n",
            "45   720000.0  Airport West           NaN\n",
            "46   785000.0  Airport West         127.0\n",
            "47   725000.0  Airport West         186.0\n"
          ]
        }
      ],
      "source": [
        "# Step 2\n",
        "\n",
        "df_filtered = df.loc[df[\"Landsize\"] > 500, [\"Price\", \"Suburb\", \"BuildingArea\"]]\n",
        "print(df_filtered.head())"
      ]
    },
    {
      "cell_type": "code",
      "execution_count": 30,
      "metadata": {
        "colab": {
          "base_uri": "https://localhost:8080/"
        },
        "id": "7iAHoizJbR8b",
        "outputId": "cb89ab58-951d-41c5-e0d2-1fad884f62eb"
      },
      "outputs": [
        {
          "name": "stdout",
          "output_type": "stream",
          "text": [
            "            Suburb         Address  Rooms Type      Price Method  \\\n",
            "12094     Mulgrave     35 Bevis St      3    h  9000000.0     PI   \n",
            "7692    Canterbury  49 Mangarra Rd      5    h  8000000.0     VB   \n",
            "9575      Hawthorn    49 Lisson Gr      4    h  7650000.0      S   \n",
            "3616           Kew     15 Barry St      6    h  6500000.0      S   \n",
            "12557  Middle Park     136 Page St      5    h  6400000.0      S   \n",
            "\n",
            "            SellerG        Date  Distance  Postcode  ...  Bathroom  Car  \\\n",
            "12094          Hall  29/07/2017      18.8    3170.0  ...       1.0  1.0   \n",
            "7692      Sotheby's  13/05/2017       9.0    3126.0  ...       5.0  4.0   \n",
            "9575   Abercromby's  17/06/2017       5.3    3122.0  ...       2.0  4.0   \n",
            "3616         Jellis  13/08/2016       5.6    3101.0  ...       6.0  3.0   \n",
            "12557      Marshall   9/09/2017       3.0    3206.0  ...       2.0  1.0   \n",
            "\n",
            "       Landsize  BuildingArea  YearBuilt  CouncilArea Lattitude  Longtitude  \\\n",
            "12094     744.0         117.0     1960.0       Monash -37.93168   145.16126   \n",
            "7692     2079.0         464.3     1880.0   Boroondara -37.81790   145.06940   \n",
            "9575     1690.0         284.0     1863.0   Boroondara -37.82652   145.03052   \n",
            "3616     1334.0         365.0     1890.0   Boroondara -37.80290   145.02670   \n",
            "12557     553.0         308.0     1920.0          NaN -37.84908   144.95753   \n",
            "\n",
            "                       Regionname Propertycount  \n",
            "12094  South-Eastern Metropolitan        7113.0  \n",
            "7692        Southern Metropolitan        3265.0  \n",
            "9575        Southern Metropolitan       11308.0  \n",
            "3616        Southern Metropolitan       10331.0  \n",
            "12557       Southern Metropolitan        2019.0  \n",
            "\n",
            "[5 rows x 21 columns]\n"
          ]
        }
      ],
      "source": [
        "# Step 3\n",
        "\n",
        "df_sorted = df.sort_values(by=\"Price\", ascending=False)\n",
        "print(df_sorted.head(5))"
      ]
    },
    {
      "cell_type": "markdown",
      "metadata": {
        "cellView": "form",
        "id": "XdLVbScMb71a"
      },
      "source": [
        "## Task 3: Data Transformation"
      ]
    },
    {
      "cell_type": "code",
      "execution_count": 44,
      "metadata": {
        "colab": {
          "base_uri": "https://localhost:8080/"
        },
        "id": "_2fI4re-0rWV",
        "outputId": "8680cb6a-9e9f-4138-930a-cd401ccb9d0e"
      },
      "outputs": [
        {
          "name": "stdout",
          "output_type": "stream",
          "text": [
            "       Price  Rooms  Price_per_Room\n",
            "0  1480000.0      2   740000.000000\n",
            "1  1035000.0      2   517500.000000\n",
            "2  1465000.0      3   488333.333333\n",
            "3   850000.0      3   283333.333333\n",
            "4  1600000.0      4   400000.000000\n"
          ]
        }
      ],
      "source": [
        "# Step 1\n",
        "\n",
        "df[\"Price_per_Room\"] = df[\"Price\"] / df[\"Rooms\"]\n",
        "print(df[[\"Price\", \"Rooms\", \"Price_per_Room\"]].head())"
      ]
    },
    {
      "cell_type": "code",
      "execution_count": 45,
      "metadata": {
        "colab": {
          "base_uri": "https://localhost:8080/"
        },
        "id": "s9yOGaZFceTk",
        "outputId": "a62bb3dd-1d2e-4bb2-f408-ab88adf384c7"
      },
      "outputs": [
        {
          "name": "stdout",
          "output_type": "stream",
          "text": [
            "0   2016-03-12\n",
            "1   2016-04-02\n",
            "2   2017-04-03\n",
            "3   2017-04-03\n",
            "Name: Date, dtype: datetime64[ns]\n"
          ]
        }
      ],
      "source": [
        "# Step 2\n",
        "\n",
        "df[\"Date\"] = pd.to_datetime(df[\"Date\"],format='mixed')\n",
        "print(df[\"Date\"].head(4))"
      ]
    },
    {
      "cell_type": "code",
      "execution_count": 46,
      "metadata": {
        "colab": {
          "base_uri": "https://localhost:8080/"
        },
        "id": "aHdOBeX2eez1",
        "outputId": "ef8c0746-e7fc-4c8a-9c35-7e3675b20b08"
      },
      "outputs": [
        {
          "name": "stdout",
          "output_type": "stream",
          "text": [
            "        Date  Year_Sold\n",
            "0 2016-03-12       2016\n",
            "1 2016-04-02       2016\n",
            "2 2017-04-03       2017\n",
            "3 2017-04-03       2017\n",
            "4 2016-04-06       2016\n"
          ]
        }
      ],
      "source": [
        "# Step 3\n",
        "\n",
        "df[\"Year_Sold\"] = df[\"Date\"].dt.year\n",
        "print(df[[\"Date\", \"Year_Sold\"]].head())"
      ]
    },
    {
      "cell_type": "markdown",
      "metadata": {
        "cellView": "form",
        "id": "W1orKxJAgRNT"
      },
      "source": [
        "## Task 4: Grouping & Summarization"
      ]
    },
    {
      "cell_type": "code",
      "execution_count": 53,
      "metadata": {
        "colab": {
          "base_uri": "https://localhost:8080/"
        },
        "id": "El7aaCRs0sAF",
        "outputId": "704abe8a-4373-43ad-b61b-7a048c7b93b1"
      },
      "outputs": [
        {
          "name": "stdout",
          "output_type": "stream",
          "text": [
            "Suburb\n",
            "Abbotsford      1.060366e+06\n",
            "Aberfeldie      1.277455e+06\n",
            "Airport West    7.566567e+05\n",
            "Albanvale       5.370833e+05\n",
            "Albert Park     1.941355e+06\n",
            "                    ...     \n",
            "Wonga Park      9.000000e+05\n",
            "Wyndham Vale    4.832500e+05\n",
            "Yallambie       8.396875e+05\n",
            "Yarra Glen      6.200000e+05\n",
            "Yarraville      9.886155e+05\n",
            "Name: Price, Length: 314, dtype: float64\n"
          ]
        }
      ],
      "source": [
        "# Step 1\n",
        "\n",
        "suburb_avg_price = df.groupby(\"Suburb\")[\"Price\"].mean()\n",
        "print(suburb_avg_price)"
      ]
    },
    {
      "cell_type": "code",
      "execution_count": 52,
      "metadata": {
        "colab": {
          "base_uri": "https://localhost:8080/"
        },
        "id": "G6sNigvphFp7",
        "outputId": "608de8fa-dae0-4ee5-a95a-9bf3824e0229"
      },
      "outputs": [
        {
          "name": "stdout",
          "output_type": "stream",
          "text": [
            "Suburb\n",
            "Abbotsford       56\n",
            "Aberfeldie       44\n",
            "Airport West     67\n",
            "Albanvale         6\n",
            "Albert Park      69\n",
            "               ... \n",
            "Wonga Park        1\n",
            "Wyndham Vale      4\n",
            "Yallambie        24\n",
            "Yarra Glen        1\n",
            "Yarraville      164\n",
            "Name: Price, Length: 314, dtype: int64\n"
          ]
        }
      ],
      "source": [
        "#Step 2\n",
        "\n",
        "properties_per_suburb = df.groupby(\"Suburb\")[\"Price\"].count()\n",
        "print(properties_per_suburb)"
      ]
    },
    {
      "cell_type": "code",
      "execution_count": 54,
      "metadata": {
        "colab": {
          "base_uri": "https://localhost:8080/"
        },
        "id": "isiAfv5BhQux",
        "outputId": "c0314f10-31ba-422e-fd8a-97b5e1955897"
      },
      "outputs": [
        {
          "name": "stdout",
          "output_type": "stream",
          "text": [
            "Most expensive suburb: Kooyong\n"
          ]
        }
      ],
      "source": [
        "# Step 3\n",
        "\n",
        "most_expensive_suburb = suburb_avg_price.idxmax()\n",
        "print(\"Most expensive suburb:\", most_expensive_suburb)"
      ]
    },
    {
      "cell_type": "markdown",
      "metadata": {
        "cellView": "form",
        "id": "pmPOnjs2hrNe"
      },
      "source": [
        "## Task 5: Data Export & Reporting"
      ]
    },
    {
      "cell_type": "code",
      "execution_count": 62,
      "metadata": {
        "id": "uw9jBNq80sZi"
      },
      "outputs": [],
      "source": [
        "# Step 1\n",
        "df.to_csv(\"cleaned_melb_data.csv\", index=False)\n"
      ]
    },
    {
      "cell_type": "code",
      "execution_count": 59,
      "metadata": {
        "colab": {
          "base_uri": "https://localhost:8080/"
        },
        "id": "zYoIYqqAjafI",
        "outputId": "777b29a0-b356-49b6-c796-c0926a2f401f"
      },
      "outputs": [
        {
          "name": "stdout",
          "output_type": "stream",
          "text": [
            "       Price    Category\n",
            "0  1480000.0   Expensive\n",
            "1  1035000.0   Expensive\n",
            "2  1465000.0   Expensive\n",
            "3   850000.0  Affordable\n",
            "4  1600000.0   Expensive\n",
            "Correlation between Price and Rooms: 0.4966336761865308\n"
          ]
        }
      ],
      "source": [
        "# Bonus Challenge:\n",
        "\n",
        "median_price = df[\"Price\"].median()\n",
        "df[\"Category\"] = df[\"Price\"].apply(lambda x: \"Expensive\" if x > median_price else \"Affordable\")\n",
        "print(df[[\"Price\", \"Category\"]].head())\n",
        "correlation = df[\"Price\"].corr(df[\"Rooms\"])\n",
        "print(\"Correlation between Price and Rooms:\", correlation)"
      ]
    },
    {
      "cell_type": "code",
      "execution_count": 61,
      "metadata": {
        "id": "NxxM77gf0t00"
      },
      "outputs": [],
      "source": [
        "# Save Summary\n",
        "with open(\"summary_report.txt\", \"w\") as f:\n",
        "    f.write(f\"Suburb with highest price: {highest_priced_suburb}\\n\")\n",
        "    f.write(f\"Correlation between price & rooms: {price_room_correlation}\\n\")\n"
      ]
    }
  ],
  "metadata": {
    "colab": {
      "provenance": []
    },
    "kernelspec": {
      "display_name": "Python 3",
      "name": "python3"
    },
    "language_info": {
      "name": "python"
    }
  },
  "nbformat": 4,
  "nbformat_minor": 0
}
